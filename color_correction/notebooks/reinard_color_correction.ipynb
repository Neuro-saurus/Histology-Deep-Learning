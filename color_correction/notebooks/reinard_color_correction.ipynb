{
 "cells": [
  {
   "cell_type": "code",
   "execution_count": 3,
   "id": "8f54415e-c338-4420-b706-8337a5661506",
   "metadata": {},
   "outputs": [],
   "source": [
    "import numpy as np\n",
    "import cv2\n",
    "import os"
   ]
  },
  {
   "cell_type": "code",
   "execution_count": 6,
   "id": "525bd2ee-5d0a-4718-b7c5-58f95e8916f3",
   "metadata": {},
   "outputs": [
    {
     "data": {
      "text/plain": [
       "['histology_4.png',\n",
       " 'histology_5.png',\n",
       " 'histology_7.png',\n",
       " 'histology_6.png',\n",
       " 'histology_2.png',\n",
       " 'histology_3.png',\n",
       " 'histology_1.png']"
      ]
     },
     "execution_count": 6,
     "metadata": {},
     "output_type": "execute_result"
    }
   ],
   "source": [
    "input_image_list"
   ]
  },
  {
   "cell_type": "code",
   "execution_count": 20,
   "id": "ad553ae1-173e-47eb-a8cd-8a0927f63e42",
   "metadata": {},
   "outputs": [],
   "source": [
    "#input_dir = \"input_images/\"\n",
    "input_dir = '../data/histology_raw/'\n",
    "input_image_list = os.listdir(input_dir)\n",
    "\n",
    "#output_dir = \"output_images/\"\n",
    "output_dir = '../data/histology_color_corrected/'"
   ]
  },
  {
   "cell_type": "code",
   "execution_count": 21,
   "id": "b345bfad-4431-4bcb-b291-3469f34b3618",
   "metadata": {},
   "outputs": [],
   "source": [
    "def get_mean_and_std(x):\n",
    "\tx_mean, x_std = cv2.meanStdDev(x)\n",
    "\tx_mean = np.hstack(np.around(x_mean,2))\n",
    "\tx_std = np.hstack(np.around(x_std,2))\n",
    "\treturn x_mean, x_std"
   ]
  },
  {
   "cell_type": "code",
   "execution_count": 22,
   "id": "72dec4df-192a-492c-9bc9-d75d8e750185",
   "metadata": {},
   "outputs": [
    {
     "data": {
      "text/plain": [
       "'/Users/coltonsm/Desktop/bioinformatics/color_correction/notebooks'"
      ]
     },
     "execution_count": 22,
     "metadata": {},
     "output_type": "execute_result"
    }
   ],
   "source": [
    "pwd"
   ]
  },
  {
   "cell_type": "code",
   "execution_count": 24,
   "id": "003b6d77-5a16-4d7f-994f-3229050fe1bd",
   "metadata": {},
   "outputs": [
    {
     "name": "stdout",
     "output_type": "stream",
     "text": [
      "histology_4.png\n",
      "histology_5.png\n",
      "histology_7.png\n",
      "histology_6.png\n",
      "histology_2.png\n",
      "histology_3.png\n",
      "histology_1.png\n"
     ]
    }
   ],
   "source": [
    "template_img = cv2.imread('../data/histology_raw/histology_1.png')\n",
    "template_img = cv2.cvtColor(template_img,cv2.COLOR_BGR2LAB)\n",
    "template_mean, template_std = get_mean_and_std(template_img)\n",
    "\n",
    "for img in (input_image_list):\n",
    "    print(img)\n",
    "    input_img = cv2.imread(input_dir+img)\n",
    "    input_img = cv2.cvtColor(input_img,cv2.COLOR_BGR2LAB)\n",
    "    \n",
    "    \n",
    "    img_mean, img_std = get_mean_and_std(input_img)\n",
    "    \n",
    "    \n",
    "    height, width, channel = input_img.shape\n",
    "    for i in range(0,height):\n",
    "        for j in range(0,width):\n",
    "            for k in range(0,channel):\n",
    "            \tx = input_img[i,j,k]\n",
    "            \tx = ((x-img_mean[k])*(template_std[k]/img_std[k]))+template_mean[k]\n",
    "            \tx = round(x)\n",
    "            \t# boundary check\n",
    "            \tx = 0 if x<0 else x\n",
    "            \tx = 255 if x>255 else x\n",
    "            \tinput_img[i,j,k] = x\n",
    "            \n",
    "    input_img= cv2.cvtColor(input_img,cv2.COLOR_LAB2BGR)\n",
    "    cv2.imwrite(output_dir+\"modified_\"+img, input_img)"
   ]
  },
  {
   "cell_type": "code",
   "execution_count": null,
   "id": "d8205379-d2ec-428d-9e67-e7fd23d6d0ee",
   "metadata": {},
   "outputs": [],
   "source": []
  }
 ],
 "metadata": {
  "kernelspec": {
   "display_name": "Python 3 (ipykernel)",
   "language": "python",
   "name": "python3"
  },
  "language_info": {
   "codemirror_mode": {
    "name": "ipython",
    "version": 3
   },
   "file_extension": ".py",
   "mimetype": "text/x-python",
   "name": "python",
   "nbconvert_exporter": "python",
   "pygments_lexer": "ipython3",
   "version": "3.12.2"
  }
 },
 "nbformat": 4,
 "nbformat_minor": 5
}
